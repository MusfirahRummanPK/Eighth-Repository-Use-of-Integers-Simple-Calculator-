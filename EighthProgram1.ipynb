{
 "cells": [
  {
   "cell_type": "markdown",
   "id": "a64d60a1",
   "metadata": {},
   "source": [
    "# 1. Use of Integers in Python\n",
    "##### Integers are whole numbers , either positive , negative or zero without a fractional part . Here are some common uses :\n",
    "#### (i). Counting and indexing\n",
    "#### (ii). Mathematical operations\n",
    "#### (iii). Looping and iteration\n",
    "#### (iv). Representing quantities\n",
    "#### (v). Bitwise operations\n",
    "## Examples :"
   ]
  },
  {
   "cell_type": "code",
   "execution_count": 1,
   "id": "260c38f2",
   "metadata": {},
   "outputs": [
    {
     "name": "stdout",
     "output_type": "stream",
     "text": [
      "32\n"
     ]
    }
   ],
   "source": [
    "age = 30\n",
    "people = 7\n",
    "number_of_awards = 442\n",
    "# Add 2 to the age \n",
    "print(age + 2)"
   ]
  },
  {
   "cell_type": "markdown",
   "id": "7839d9f0",
   "metadata": {},
   "source": [
    "# 2. Use of Strings in Python\n",
    "##### Strings are sequences of characters used to represent text . here are some common uses :\n",
    "#### (i). Text representation \n",
    "#### (ii). User input / output \n",
    "#### (iii). Data manipulation \n",
    "#### (iv). Formatting \n",
    "## Examples :"
   ]
  },
  {
   "cell_type": "code",
   "execution_count": 4,
   "id": "5bc283f4",
   "metadata": {},
   "outputs": [
    {
     "name": "stdout",
     "output_type": "stream",
     "text": [
      "Welcome Back, BTS!\n"
     ]
    }
   ],
   "source": [
    "group = \"BTS\"\n",
    "greeting = \"Welcome Back, \" + group + \"!\"\n",
    "supporters = \"Armys\"\n",
    "print(greeting)"
   ]
  },
  {
   "cell_type": "markdown",
   "id": "d0ab9bd5",
   "metadata": {},
   "source": [
    "# Use of Floats in Python\n",
    "##### Floats are numbers with a fractional part , used to represent decimal numbers . Here are some common uses :\n",
    "#### (i). Scientific calculations \n",
    "#### (ii). Financial calculations \n",
    "#### (iii). Measurements \n",
    "#### (iv). Probability and statistics \n",
    "## Examples :"
   ]
  },
  {
   "cell_type": "code",
   "execution_count": 6,
   "id": "9d8de961",
   "metadata": {},
   "outputs": [
    {
     "name": "stdout",
     "output_type": "stream",
     "text": [
      "31.95\n"
     ]
    }
   ],
   "source": [
    "weight = 22.45\n",
    "quantity = 9.5\n",
    "price = weight + quantity \n",
    "print(price)"
   ]
  },
  {
   "cell_type": "markdown",
   "id": "802c0928",
   "metadata": {},
   "source": [
    "## A Combined Example :"
   ]
  },
  {
   "cell_type": "code",
   "execution_count": 10,
   "id": "76e01df0",
   "metadata": {},
   "outputs": [
    {
     "name": "stdout",
     "output_type": "stream",
     "text": [
      "Number of students: 200\n",
      "Student name: Marco Diaz\n",
      "Height: 5.9 feet\n",
      "Name: Marco Diaz, Age: 20, Height: 5.9 feet\n"
     ]
    }
   ],
   "source": [
    "# Integer use : counting \n",
    "num_students = 200\n",
    "print(f\"Number of students: {num_students}\")\n",
    "\n",
    "# String use : text representation \n",
    "student_name = \"Marco Diaz\"\n",
    "print(f\"Student name: {student_name}\")\n",
    "\n",
    "# Float use : measurement\n",
    "height = 5.9\n",
    "print(f\"Height: {height} feet\")\n",
    "\n",
    "# Combined use\n",
    "student_info = f\"Name: {student_name}, Age: {num_students//10}, Height: {height} feet\"\n",
    "print(student_info)"
   ]
  }
 ],
 "metadata": {
  "kernelspec": {
   "display_name": "base",
   "language": "python",
   "name": "python3"
  },
  "language_info": {
   "codemirror_mode": {
    "name": "ipython",
    "version": 3
   },
   "file_extension": ".py",
   "mimetype": "text/x-python",
   "name": "python",
   "nbconvert_exporter": "python",
   "pygments_lexer": "ipython3",
   "version": "3.12.7"
  }
 },
 "nbformat": 4,
 "nbformat_minor": 5
}
